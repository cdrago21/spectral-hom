{
 "cells": [
  {
   "cell_type": "code",
   "execution_count": null,
   "id": "initial_id",
   "metadata": {
    "collapsed": true,
    "is_executing": true
   },
   "outputs": [],
   "source": [
    "from main import GaussianPulse, IndependentGaussianCoincidence"
   ]
  },
  {
   "cell_type": "code",
   "execution_count": 1,
   "outputs": [
    {
     "ename": "NameError",
     "evalue": "name 'GaussianPulse' is not defined",
     "output_type": "error",
     "traceback": [
      "\u001B[1;31m---------------------------------------------------------------------------\u001B[0m",
      "\u001B[1;31mNameError\u001B[0m                                 Traceback (most recent call last)",
      "Cell \u001B[1;32mIn[1], line 8\u001B[0m\n\u001B[0;32m      1\u001B[0m gaussian_a_params \u001B[38;5;241m=\u001B[39m {\u001B[38;5;124m'\u001B[39m\u001B[38;5;124mlambda_c\u001B[39m\u001B[38;5;124m'\u001B[39m: \u001B[38;5;241m780\u001B[39m,  \u001B[38;5;66;03m# center wavelength (nm)\u001B[39;00m\n\u001B[0;32m      2\u001B[0m                      \u001B[38;5;124m'\u001B[39m\u001B[38;5;124mFWHM\u001B[39m\u001B[38;5;124m'\u001B[39m: \u001B[38;5;241m15\u001B[39m  \u001B[38;5;66;03m# Full-Width-Half-Max (ps)\u001B[39;00m\n\u001B[0;32m      3\u001B[0m                      }\n\u001B[0;32m      4\u001B[0m gaussian_b_params \u001B[38;5;241m=\u001B[39m {\u001B[38;5;124m'\u001B[39m\u001B[38;5;124mlambda_c\u001B[39m\u001B[38;5;124m'\u001B[39m: \u001B[38;5;241m780.01\u001B[39m,  \u001B[38;5;66;03m# center wavelength (nm)\u001B[39;00m\n\u001B[0;32m      5\u001B[0m                      \u001B[38;5;124m'\u001B[39m\u001B[38;5;124mFWHM\u001B[39m\u001B[38;5;124m'\u001B[39m: \u001B[38;5;241m10\u001B[39m,  \u001B[38;5;66;03m# Full-Width-Half-Max (ps)\u001B[39;00m\n\u001B[0;32m      6\u001B[0m                      }\n\u001B[1;32m----> 8\u001B[0m gaussian_a \u001B[38;5;241m=\u001B[39m \u001B[43mGaussianPulse\u001B[49m(gaussian_a_params)\n\u001B[0;32m      9\u001B[0m gaussian_b \u001B[38;5;241m=\u001B[39m GaussianPulse(gaussian_b_params)\n\u001B[0;32m     11\u001B[0m gaussian_coincidence_params \u001B[38;5;241m=\u001B[39m {\u001B[38;5;124m'\u001B[39m\u001B[38;5;124mgaussian_a\u001B[39m\u001B[38;5;124m'\u001B[39m: gaussian_a,\n\u001B[0;32m     12\u001B[0m                                \u001B[38;5;124m'\u001B[39m\u001B[38;5;124mgaussian_b\u001B[39m\u001B[38;5;124m'\u001B[39m: gaussian_b\n\u001B[0;32m     13\u001B[0m                                }\n",
      "\u001B[1;31mNameError\u001B[0m: name 'GaussianPulse' is not defined"
     ]
    }
   ],
   "source": [
    "gaussian_a_params = {'lambda_c': 780,  # center wavelength (nm)\n",
    "                     'FWHM': 15  # Full-Width-Half-Max (ps)\n",
    "                     }\n",
    "gaussian_b_params = {'lambda_c': 780.01,  # center wavelength (nm)\n",
    "                     'FWHM': 10,  # Full-Width-Half-Max (ps)\n",
    "                     }\n",
    "\n",
    "gaussian_a = GaussianPulse(gaussian_a_params)\n",
    "gaussian_b = GaussianPulse(gaussian_b_params)\n",
    "\n",
    "gaussian_coincidence_params = {'gaussian_a': gaussian_a,\n",
    "                               'gaussian_b': gaussian_b\n",
    "                               }\n",
    "gaussian_coincidence = IndependentGaussianCoincidence(gaussian_coincidence_params)\n",
    "\n",
    "gaussian_coincidence.plot_coincidence()"
   ],
   "metadata": {
    "collapsed": false,
    "ExecuteTime": {
     "start_time": "2023-08-31T19:28:35.899737200Z"
    }
   },
   "id": "25398b66c54a9dec"
  },
  {
   "cell_type": "code",
   "execution_count": 2,
   "outputs": [],
   "source": [],
   "metadata": {
    "collapsed": false,
    "ExecuteTime": {
     "end_time": "2023-08-31T18:16:57.238561300Z",
     "start_time": "2023-08-31T18:16:57.225593900Z"
    }
   },
   "id": "9c84eb36872436bc"
  }
 ],
 "metadata": {
  "kernelspec": {
   "display_name": "Python 3",
   "language": "python",
   "name": "python3"
  },
  "language_info": {
   "codemirror_mode": {
    "name": "ipython",
    "version": 2
   },
   "file_extension": ".py",
   "mimetype": "text/x-python",
   "name": "python",
   "nbconvert_exporter": "python",
   "pygments_lexer": "ipython2",
   "version": "2.7.6"
  }
 },
 "nbformat": 4,
 "nbformat_minor": 5
}
