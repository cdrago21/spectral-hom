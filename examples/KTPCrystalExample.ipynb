{
 "cells": [
  {
   "cell_type": "markdown",
   "source": [
    "# Periodically polled KTP crystal"
   ],
   "metadata": {
    "collapsed": false
   },
   "id": "7a1ca7cb1a7fa432"
  },
  {
   "cell_type": "code",
   "execution_count": 33,
   "outputs": [
    {
     "name": "stdout",
     "output_type": "stream",
     "text": [
      "The autoreload extension is already loaded. To reload it, use:\n",
      "  %reload_ext autoreload\n"
     ]
    }
   ],
   "source": [
    "%load_ext autoreload\n",
    "%autoreload 2"
   ],
   "metadata": {
    "collapsed": false,
    "ExecuteTime": {
     "start_time": "2023-09-01T21:06:15.627343900Z"
    }
   },
   "id": "initial_id"
  },
  {
   "cell_type": "code",
   "execution_count": 34,
   "outputs": [],
   "source": [
    "from main import *\n",
    "# import matplotlib.gridspec as gridspec\n",
    "from custom_poling.core.target import Target\n",
    "from custom_poling.core.custom_crystal import CustomCrystal\n",
    "from custom_poling.core.custom_crystal import Crystal\n",
    "import numdifftools as nd ####NOT IN PACKAGE!!!!!!!!! \n",
    "from custom_poling.utils.sellmeier import Sellmeier\n",
    "from custom_poling.utils.wavenumbers import Wavenumbers"
   ],
   "metadata": {
    "collapsed": false,
    "ExecuteTime": {
     "end_time": "2023-09-01T21:06:15.850261500Z",
     "start_time": "2023-09-01T21:06:15.790424Z"
    }
   },
   "id": "fe1df55316d6b9a"
  },
  {
   "cell_type": "code",
   "execution_count": 35,
   "outputs": [
    {
     "name": "stdout",
     "output_type": "stream",
     "text": [
      "omega_s_0 = 1265832916458229.0\n",
      "omega_i_0 = 1265832916458229.0\n",
      "omega_p_0 = 2531665832916458.0\n",
      "k_s'-k_i' =  3.132950690109289e-10\n"
     ]
    }
   ],
   "source": [
    "# Define the central frequencies of the two downconverted modes and the pump\n",
    "omega_s_0 = 1265832916458229.0 # signal mode central frequency\n",
    "omega_i_0 = 1265832916458229.0 # idler mode central frequency\n",
    "omega_p_0 = omega_s_0 + omega_i_0 # pump mode central frequency\n",
    "\n",
    "print(f\"omega_s_0 = {omega_s_0:4}\")\n",
    "print(f\"omega_i_0 = {omega_i_0}\")\n",
    "print(f\"omega_p_0 = {omega_p_0}\")\n",
    "\n",
    "# Generate the Sellmeier equations for KTP\n",
    "sel_y = Sellmeier(3.0065, 0.03901, 0.04547, 0.01408)\n",
    "sel_z = Sellmeier(3.3134, 0.05694, 0.05658, 0.01692)\n",
    "\n",
    "# Generate the wave-vectors as a function of frequency\n",
    "c=3e8\n",
    "k_s = lambda omega: omega * sel_z.n(2*np.pi*c*1e6/omega)/c\n",
    "k_i = lambda omega: omega * sel_y.n(2*np.pi*c*1e6/omega)/c\n",
    "k_p = lambda omega: omega * sel_y.n(2*np.pi*c*1e6/omega)/c\n",
    "\n",
    "# Generate the phase-mismatch as a function of downconverted frequencies\n",
    "delta_k = lambda omega_s,omega_i:k_s(omega_s)+k_i(omega_i)-k_p(omega_s+omega_i)\n",
    "\n",
    "# Compute the group velocity dispersion at the center frequencies\n",
    "k_s_gradient = nd.Gradient(k_s,step=1.0e10)([omega_s_0])\n",
    "k_i_gradient = nd.Gradient(k_i,step=1.0e10)([omega_i_0])\n",
    "gvd = k_s_gradient-k_i_gradient # group velocity dispersion\n",
    "\n",
    "print(\"k_s'-k_i' = \", gvd)\n",
    "\n"
   ],
   "metadata": {
    "collapsed": false,
    "ExecuteTime": {
     "end_time": "2023-09-01T21:06:16.004905900Z",
     "start_time": "2023-09-01T21:06:15.934109100Z"
    }
   },
   "id": "de85394da5c86c51"
  },
  {
   "cell_type": "code",
   "execution_count": 44,
   "outputs": [
    {
     "data": {
      "text/plain": "<Figure size 640x480 with 1 Axes>",
      "image/png": "[encoded data removed]"
     },
     "metadata": {},
     "output_type": "display_data"
    }
   ],
   "source": [
    "# Crystal properties\n",
    "delta_k_0 = delta_k(omega_s_0,omega_i_0) # central phase-mismatch\n",
    "domain_width = np.pi/delta_k_0\n",
    "number_domains = 501\n",
    "L=number_domains*domain_width # crystal length\n",
    "\n",
    "domain_config = [1,-1]*int(number_domains/2)\n",
    "crystal = Crystal(domain_width,number_domains,z0=0)\n",
    "\n",
    "crystal.plot_domains(domain_config,n_max=51,fix_ticks=True)"
   ],
   "metadata": {
    "collapsed": false,
    "ExecuteTime": {
     "end_time": "2023-09-01T21:07:20.483891700Z",
     "start_time": "2023-09-01T21:07:20.326920600Z"
    }
   },
   "id": "a797421e43a6eb24"
  },
  {
   "cell_type": "code",
   "execution_count": null,
   "outputs": [],
   "source": [
    "# Numerical integration parameters\n",
    "k_range = 20000.\n",
    "k_array = np.linspace(delta_k_0-k_range/2,delta_k_0+k_range,5000)\n",
    "\n",
    "# Print some parameters\n",
    "print(f'domain width = {domain_width*1e6} um')\n",
    "print(f'length = {L*1e2} cm')\n",
    "print(f'number of domains = {number_domains}')\n",
    "print(f'k_0 = {delta_k_0} m^-1')\n",
    "print(f'max amplitude for equivalent periodically-poled crystal = ' + str(2/np.pi))"
   ],
   "metadata": {
    "collapsed": false
   },
   "id": "b5104c1853647aa6"
  },
  {
   "cell_type": "code",
   "execution_count": 23,
   "outputs": [
    {
     "data": {
      "text/plain": "<Figure size 640x480 with 1 Axes>",
      "image/png": "[encoded data removed]"
     },
     "metadata": {},
     "output_type": "display_data"
    }
   ],
   "source": [
    "domain_config = [1,-1]*int(number_domains/2)\n",
    "\n",
    "crystal = Crystal(domain_width,number_domains,z0=0)\n",
    "\n",
    "crystal.plot_domains(domain_config,n_max=10,fix_ticks=True)"
   ],
   "metadata": {
    "collapsed": false,
    "ExecuteTime": {
     "end_time": "2023-09-01T21:03:26.518643800Z",
     "start_time": "2023-09-01T21:03:26.335061400Z"
    }
   },
   "id": "c31f7a638142dff9"
  },
  {
   "cell_type": "code",
   "execution_count": null,
   "outputs": [],
   "source": [
    "k0=np.pi/domain_width\n",
    "\n",
    "# Specify and plot the domain configuration\n",
    "\n",
    "\n",
    "crystal.plot_domains(domain_config,n_max=10,fix_ticks=True)\n",
    "\n",
    "# Compute and plot the phase-matching function (PMF) for an periodically-poled crystal\n",
    "\n",
    "k_array = np.arange(k0-2000,k0+2000,10)\n",
    "pmf_periodically_poled = crystal.compute_pmf(domain_config,k_array)"
   ],
   "metadata": {
    "collapsed": false
   },
   "id": "bfada74f4c52ca6c"
  }
 ],
 "metadata": {
  "kernelspec": {
   "display_name": "Python 3",
   "language": "python",
   "name": "python3"
  },
  "language_info": {
   "codemirror_mode": {
    "name": "ipython",
    "version": 2
   },
   "file_extension": ".py",
   "mimetype": "text/x-python",
   "name": "python",
   "nbconvert_exporter": "python",
   "pygments_lexer": "ipython2",
   "version": "2.7.6"
  }
 },
 "nbformat": 4,
 "nbformat_minor": 5
}
